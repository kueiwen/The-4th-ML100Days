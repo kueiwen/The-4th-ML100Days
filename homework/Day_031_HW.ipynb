{
 "cells": [
  {
   "cell_type": "markdown",
   "metadata": {
    "collapsed": true
   },
   "source": [
    "# 作業 : (Kaggle)鐵達尼生存預測"
   ]
  },
  {
   "cell_type": "markdown",
   "metadata": {},
   "source": [
    "# [作業目標]\n",
    "- 試著模仿範例寫法, 在鐵達尼生存預測中, 練習特徵重要性的寫作與觀察"
   ]
  },
  {
   "cell_type": "markdown",
   "metadata": {},
   "source": [
    "# [作業重點]\n",
    "- 仿造範例, 完成特徵重要性的計算, 並觀察對預測結果的影響 (In[3]~[5], Out[3]~[5]) \n",
    "- 仿造範例, 將兩個特徵重要性最高的特徵重組出新特徵, 並觀察對預測結果的影響 (In[8], Out[8]) "
   ]
  },
  {
   "cell_type": "code",
   "execution_count": 1,
   "metadata": {},
   "outputs": [
    {
     "data": {
      "text/html": [
       "<div>\n",
       "<style scoped>\n",
       "    .dataframe tbody tr th:only-of-type {\n",
       "        vertical-align: middle;\n",
       "    }\n",
       "\n",
       "    .dataframe tbody tr th {\n",
       "        vertical-align: top;\n",
       "    }\n",
       "\n",
       "    .dataframe thead th {\n",
       "        text-align: right;\n",
       "    }\n",
       "</style>\n",
       "<table border=\"1\" class=\"dataframe\">\n",
       "  <thead>\n",
       "    <tr style=\"text-align: right;\">\n",
       "      <th></th>\n",
       "      <th>Pclass</th>\n",
       "      <th>Name</th>\n",
       "      <th>Sex</th>\n",
       "      <th>Age</th>\n",
       "      <th>SibSp</th>\n",
       "      <th>Parch</th>\n",
       "      <th>Ticket</th>\n",
       "      <th>Fare</th>\n",
       "      <th>Cabin</th>\n",
       "      <th>Embarked</th>\n",
       "    </tr>\n",
       "  </thead>\n",
       "  <tbody>\n",
       "    <tr>\n",
       "      <th>0</th>\n",
       "      <td>3</td>\n",
       "      <td>Braund, Mr. Owen Harris</td>\n",
       "      <td>male</td>\n",
       "      <td>22.0</td>\n",
       "      <td>1</td>\n",
       "      <td>0</td>\n",
       "      <td>A/5 21171</td>\n",
       "      <td>7.2500</td>\n",
       "      <td>NaN</td>\n",
       "      <td>S</td>\n",
       "    </tr>\n",
       "    <tr>\n",
       "      <th>1</th>\n",
       "      <td>1</td>\n",
       "      <td>Cumings, Mrs. John Bradley (Florence Briggs Th...</td>\n",
       "      <td>female</td>\n",
       "      <td>38.0</td>\n",
       "      <td>1</td>\n",
       "      <td>0</td>\n",
       "      <td>PC 17599</td>\n",
       "      <td>71.2833</td>\n",
       "      <td>C85</td>\n",
       "      <td>C</td>\n",
       "    </tr>\n",
       "    <tr>\n",
       "      <th>2</th>\n",
       "      <td>3</td>\n",
       "      <td>Heikkinen, Miss. Laina</td>\n",
       "      <td>female</td>\n",
       "      <td>26.0</td>\n",
       "      <td>0</td>\n",
       "      <td>0</td>\n",
       "      <td>STON/O2. 3101282</td>\n",
       "      <td>7.9250</td>\n",
       "      <td>NaN</td>\n",
       "      <td>S</td>\n",
       "    </tr>\n",
       "    <tr>\n",
       "      <th>3</th>\n",
       "      <td>1</td>\n",
       "      <td>Futrelle, Mrs. Jacques Heath (Lily May Peel)</td>\n",
       "      <td>female</td>\n",
       "      <td>35.0</td>\n",
       "      <td>1</td>\n",
       "      <td>0</td>\n",
       "      <td>113803</td>\n",
       "      <td>53.1000</td>\n",
       "      <td>C123</td>\n",
       "      <td>S</td>\n",
       "    </tr>\n",
       "    <tr>\n",
       "      <th>4</th>\n",
       "      <td>3</td>\n",
       "      <td>Allen, Mr. William Henry</td>\n",
       "      <td>male</td>\n",
       "      <td>35.0</td>\n",
       "      <td>0</td>\n",
       "      <td>0</td>\n",
       "      <td>373450</td>\n",
       "      <td>8.0500</td>\n",
       "      <td>NaN</td>\n",
       "      <td>S</td>\n",
       "    </tr>\n",
       "  </tbody>\n",
       "</table>\n",
       "</div>"
      ],
      "text/plain": [
       "   Pclass                                               Name     Sex   Age  \\\n",
       "0       3                            Braund, Mr. Owen Harris    male  22.0   \n",
       "1       1  Cumings, Mrs. John Bradley (Florence Briggs Th...  female  38.0   \n",
       "2       3                             Heikkinen, Miss. Laina  female  26.0   \n",
       "3       1       Futrelle, Mrs. Jacques Heath (Lily May Peel)  female  35.0   \n",
       "4       3                           Allen, Mr. William Henry    male  35.0   \n",
       "\n",
       "   SibSp  Parch            Ticket     Fare Cabin Embarked  \n",
       "0      1      0         A/5 21171   7.2500   NaN        S  \n",
       "1      1      0          PC 17599  71.2833   C85        C  \n",
       "2      0      0  STON/O2. 3101282   7.9250   NaN        S  \n",
       "3      1      0            113803  53.1000  C123        S  \n",
       "4      0      0            373450   8.0500   NaN        S  "
      ]
     },
     "execution_count": 1,
     "metadata": {},
     "output_type": "execute_result"
    }
   ],
   "source": [
    "# 做完特徵工程前的所有準備 (與前範例相同)\n",
    "import pandas as pd\n",
    "import numpy as np\n",
    "import copy\n",
    "from sklearn.preprocessing import LabelEncoder, MinMaxScaler\n",
    "from sklearn.model_selection import cross_val_score\n",
    "from sklearn.ensemble import RandomForestClassifier\n",
    "import warnings\n",
    "warnings.filterwarnings('ignore')\n",
    "\n",
    "data_path = '/Users/venassa/Documents/MLdata/'\n",
    "df = pd.read_csv(data_path + 'titanic_train.csv')\n",
    "\n",
    "train_Y = df['Survived']\n",
    "df = df.drop(['PassengerId', 'Survived'] , axis=1)\n",
    "df.head()"
   ]
  },
  {
   "cell_type": "code",
   "execution_count": 2,
   "metadata": {},
   "outputs": [
    {
     "data": {
      "text/html": [
       "<div>\n",
       "<style scoped>\n",
       "    .dataframe tbody tr th:only-of-type {\n",
       "        vertical-align: middle;\n",
       "    }\n",
       "\n",
       "    .dataframe tbody tr th {\n",
       "        vertical-align: top;\n",
       "    }\n",
       "\n",
       "    .dataframe thead th {\n",
       "        text-align: right;\n",
       "    }\n",
       "</style>\n",
       "<table border=\"1\" class=\"dataframe\">\n",
       "  <thead>\n",
       "    <tr style=\"text-align: right;\">\n",
       "      <th></th>\n",
       "      <th>Pclass</th>\n",
       "      <th>Name</th>\n",
       "      <th>Sex</th>\n",
       "      <th>Age</th>\n",
       "      <th>SibSp</th>\n",
       "      <th>Parch</th>\n",
       "      <th>Ticket</th>\n",
       "      <th>Fare</th>\n",
       "      <th>Cabin</th>\n",
       "      <th>Embarked</th>\n",
       "    </tr>\n",
       "  </thead>\n",
       "  <tbody>\n",
       "    <tr>\n",
       "      <th>0</th>\n",
       "      <td>1.0</td>\n",
       "      <td>0.121348</td>\n",
       "      <td>1.0</td>\n",
       "      <td>0.283951</td>\n",
       "      <td>0.125</td>\n",
       "      <td>0.0</td>\n",
       "      <td>0.769118</td>\n",
       "      <td>0.014151</td>\n",
       "      <td>0.000000</td>\n",
       "      <td>1.000000</td>\n",
       "    </tr>\n",
       "    <tr>\n",
       "      <th>1</th>\n",
       "      <td>0.0</td>\n",
       "      <td>0.213483</td>\n",
       "      <td>0.0</td>\n",
       "      <td>0.481481</td>\n",
       "      <td>0.125</td>\n",
       "      <td>0.0</td>\n",
       "      <td>0.876471</td>\n",
       "      <td>0.139136</td>\n",
       "      <td>0.557823</td>\n",
       "      <td>0.333333</td>\n",
       "    </tr>\n",
       "    <tr>\n",
       "      <th>2</th>\n",
       "      <td>1.0</td>\n",
       "      <td>0.396629</td>\n",
       "      <td>0.0</td>\n",
       "      <td>0.333333</td>\n",
       "      <td>0.000</td>\n",
       "      <td>0.0</td>\n",
       "      <td>0.983824</td>\n",
       "      <td>0.015469</td>\n",
       "      <td>0.000000</td>\n",
       "      <td>1.000000</td>\n",
       "    </tr>\n",
       "    <tr>\n",
       "      <th>3</th>\n",
       "      <td>0.0</td>\n",
       "      <td>0.305618</td>\n",
       "      <td>0.0</td>\n",
       "      <td>0.444444</td>\n",
       "      <td>0.125</td>\n",
       "      <td>0.0</td>\n",
       "      <td>0.072059</td>\n",
       "      <td>0.103644</td>\n",
       "      <td>0.380952</td>\n",
       "      <td>1.000000</td>\n",
       "    </tr>\n",
       "    <tr>\n",
       "      <th>4</th>\n",
       "      <td>1.0</td>\n",
       "      <td>0.016854</td>\n",
       "      <td>1.0</td>\n",
       "      <td>0.444444</td>\n",
       "      <td>0.000</td>\n",
       "      <td>0.0</td>\n",
       "      <td>0.694118</td>\n",
       "      <td>0.015713</td>\n",
       "      <td>0.000000</td>\n",
       "      <td>1.000000</td>\n",
       "    </tr>\n",
       "  </tbody>\n",
       "</table>\n",
       "</div>"
      ],
      "text/plain": [
       "   Pclass      Name  Sex       Age  SibSp  Parch    Ticket      Fare  \\\n",
       "0     1.0  0.121348  1.0  0.283951  0.125    0.0  0.769118  0.014151   \n",
       "1     0.0  0.213483  0.0  0.481481  0.125    0.0  0.876471  0.139136   \n",
       "2     1.0  0.396629  0.0  0.333333  0.000    0.0  0.983824  0.015469   \n",
       "3     0.0  0.305618  0.0  0.444444  0.125    0.0  0.072059  0.103644   \n",
       "4     1.0  0.016854  1.0  0.444444  0.000    0.0  0.694118  0.015713   \n",
       "\n",
       "      Cabin  Embarked  \n",
       "0  0.000000  1.000000  \n",
       "1  0.557823  0.333333  \n",
       "2  0.000000  1.000000  \n",
       "3  0.380952  1.000000  \n",
       "4  0.000000  1.000000  "
      ]
     },
     "execution_count": 2,
     "metadata": {},
     "output_type": "execute_result"
    }
   ],
   "source": [
    "# 因為需要把類別型與數值型特徵都加入, 故使用最簡版的特徵工程\n",
    "LEncoder = LabelEncoder()\n",
    "MMEncoder = MinMaxScaler()\n",
    "for c in df.columns:\n",
    "    df[c] = df[c].fillna(-1)\n",
    "    if df[c].dtype == 'object':\n",
    "        df[c] = LEncoder.fit_transform(list(df[c].values))\n",
    "    df[c] = MMEncoder.fit_transform(df[c].values.reshape(-1, 1))\n",
    "df.head()"
   ]
  },
  {
   "cell_type": "code",
   "execution_count": 3,
   "metadata": {},
   "outputs": [
    {
     "data": {
      "text/plain": [
       "Sex         0.242866\n",
       "Ticket      0.161156\n",
       "Name        0.136588\n",
       "Fare        0.133310\n",
       "Age         0.114580\n",
       "Pclass      0.066099\n",
       "Cabin       0.065963\n",
       "Parch       0.030780\n",
       "SibSp       0.026552\n",
       "Embarked    0.022106\n",
       "dtype: float64"
      ]
     },
     "execution_count": 3,
     "metadata": {},
     "output_type": "execute_result"
    }
   ],
   "source": [
    "# 隨機森林擬合後, 將結果依照重要性由高到低排序\n",
    "estimator = RandomForestClassifier()\n",
    "estimator.fit(df.values, train_Y)\n",
    "feats = pd.Series(data=estimator.feature_importances_, index=df.columns)\n",
    "feats = feats.sort_values(ascending=False)\n",
    "feats"
   ]
  },
  {
   "cell_type": "markdown",
   "metadata": {},
   "source": [
    "## 先用隨機森林對鐵達尼生存預測做訓練，再用其特徵重要性回答下列問題\n",
    "\n",
    "# 作業1\n",
    "* 將特徵重要性較低的一半特徵刪除後，再做生存率預估，正確率是否有變化?"
   ]
  },
  {
   "cell_type": "code",
   "execution_count": 4,
   "metadata": {},
   "outputs": [
    {
     "data": {
      "text/plain": [
       "0.8204130311970372"
      ]
     },
     "execution_count": 4,
     "metadata": {},
     "output_type": "execute_result"
    }
   ],
   "source": [
    "# 高重要性特徵 + 隨機森林\n",
    "\"\"\"\n",
    "Your Code Here\n",
    "\"\"\"\n",
    "high_feature = list(feats[:5].index)\n",
    "train_X = MMEncoder.fit_transform(df[high_feature])\n",
    "cross_val_score(estimator, train_X, train_Y, cv=5).mean()"
   ]
  },
  {
   "cell_type": "code",
   "execution_count": 5,
   "metadata": {},
   "outputs": [
    {
     "data": {
      "text/plain": [
       "0.8226916075575922"
      ]
     },
     "execution_count": 5,
     "metadata": {},
     "output_type": "execute_result"
    }
   ],
   "source": [
    "# 原始特徵 + 隨機森林\n",
    "train_X = MMEncoder.fit_transform(df)\n",
    "cross_val_score(estimator, train_X, train_Y, cv=5).mean()"
   ]
  },
  {
   "cell_type": "markdown",
   "metadata": {},
   "source": [
    "# 作業2\n",
    "* 將特徵重要性最高的兩個特徵做特徵組合，是否能再進一步提升預測力?"
   ]
  },
  {
   "cell_type": "code",
   "execution_count": 11,
   "metadata": {},
   "outputs": [
    {
     "data": {
      "image/png": "iVBORw0KGgoAAAANSUhEUgAAAYoAAAEGCAYAAAB7DNKzAAAABHNCSVQICAgIfAhkiAAAAAlwSFlzAAALEgAACxIB0t1+/AAAADh0RVh0U29mdHdhcmUAbWF0cGxvdGxpYiB2ZXJzaW9uMy4xLjMsIGh0dHA6Ly9tYXRwbG90bGliLm9yZy+AADFEAAAgAElEQVR4nOzdd3hUZdrH8e8zJZn0hIQSCCH0qoBEUOlFiiiIgmIDKxbcde24lnVR17b7WlBXUbAgUgQLIkWqdKUpSK8hgVAC6ZNMfd4/gi5iEkBm5kwy9+e6uMzMnJxzC5P85qlHaa0RQgghKmIyugAhhBDBTYJCCCFEpSQohBBCVEqCQgghRKUkKIQQQlTKYnQBvpaUlKTT0tKMLkMIIaqU9evX52ita5b3WrULirS0NNatW2d0GUIIUaUopTIqek26noQQQlRKgkIIIUSlJCiEEEJUSoJCCCFEpSQohBBCVEqCQgghRKUkKIQQQlSq2q2jEEJUT1prznRbBKUUSqkAVRQ6JCiEEEHP6XRy5x23cyAzq9LjEmvU4MOPPiI2NjZAlYUGCQohRND79ttvOZCZRd+UEqKt5bcqXF74JgOmT5/OnXfeGeAKqzcJCiFEULPb7Xw66ROaxbu5qamdynqWjpSYmTnjc4YMGUJiYmLgiqzmZDBbCBHUJk+ezPETuVzfuLjSkAC4tpEdp9PB+++/H5jiQoQEhRAiaGVkZDB92lQ613HQNM59xuOTI730Tylh3rx5bNq0KQAVhgYJCiFEUHK73bz44r8IN3m4vnHxWX/f4DQ7NSM0L7/0IqWlpX6sMHRIUAghgtJnn33G9u07GNG0kPjwyqfFnspmgTtaFHDwUDbvvPOOHysMHRIUQoigs3HjRj768EMure2gUy3nOX9/qwQ3A1JLmDVrFosXL/ZDhaHF0KBQSk1USh1VSv1Swes3KaU2nfyzSinVNtA1CiEC6+jRo4z957PUjvRyW/OiMw5gV2RYIztN4jy8+srL7Nu3z7dFhhijWxQfAf0reX0f0F1rfSHwHDA+EEUJIYxRUlLC358YQ2lRPn9pnY/tPCbwW0xwf+sCwrWDv495nLy8PN8VGmIMDQqt9TLgRCWvr9Ja5558uAZICUhhQoiAc7vdPDd2LHv27uW+1gWkRHvO+5w1bF4euCCfnJyjPPn3v8vg9p9UlRbc3QHMNbqI6uKHH37gk08mUWw/+9kkFTGZTFzepw/Dhg3DYqlKbykRLLTW/Oc//2HV6tWMaFZE20SXz87dONbNPS0LeeuXrfzz2Wd57vnn5X16jtSZNtnyewFKpQGztdZtKjmmJ/AO0EVrfbyc10cBowBSU1M7ZGRUeI/wkHf8+HHeeuttlixZDLZYXLb48z6nye3AXHSEtLSGPProI7Ru3doHlYpQobXm3XffZdq0aQxOs3NtoxK/XGdRVjgf74zm8ssv54knnsBkMrrnPbgopdZrrdPLey3oY1UpdSHwATCgvJAA0FqP5+T4RXp6urHJF6SKi4v5/PPPmTptGqUOJ4667XEmXwgms0/Ob8nNYH/mD4y+/3569ezJbbfdRv369X1yblG9TZw4kWnTptG7XinXNPRPSAD0TnFQ5DIxc8ECwsLCePjhhyUszlJQB4VSKhX4ArhFa73T6HqqIrvdzqxZs/h08mSKCgtxJzSgtHE6OiLOp9dxJzSgMLYuYdk/s+T7ZSxdupR+/foxYsQIkpOTfXotUX189NFHTJo0ie7JpdzS7MxbdJyvwQ1LcHlh1rffYjab+dvf/iZhcRYM7XpSSk0BegBJwBHgH4AVQGv9rlLqA+Ba4Ne+JHdFTaNfpaen63Xr1vmt5qri6NGjfPnll3w9axb24mI8cfUordcBb1SS36+tXCWEHfqZsJwdKO2la9duXH/9ddIlJX6jtebDDz/kk08+oUudUu5sWYwpQLeR0Bqm74nk2wMRDBw4UFoWJ1XW9WT4GIWvhXJQaK3ZvHkzX331FUuXLsWrNa74BjjrtMEbXSvg9ShnMdYjW7Hl7ES7HTRv0YKh115Lt27dCA8PD3g9IjhorRk/fjxTpkyhe3Ipt7UIXEj8rwaYsTeCbzIi6d+/P48++ihms2+6YasqCYpq7vjx43z33Xd8M3s2hw4eRFnCcCQ2xVm7FTo8xujywOPCmrML27FtUJJPZFQUfS+/nIEDB9K0aVOjqxMB5PV6GTduHF9++SW96pUyolngQ+JXWsNX+yP4cl8kPXv25Mknnwzp2VASFNVQaWkpq1evZsGCBaxZswav14s3pjaOpGa4E9LAbDW6xD/SGnNhNtZjOwnLy0B7PTRp0pR+/frSs2dPkpL83y0mjOPxePjPf/7DnDlzGFC/hOFNKr+3RKB8m2Fj2p4oOne+jH/841nCwsKMLskQEhTVhNvtZt26dSxcuJDlK1bgKC1FhUXiqNEYV1JTvBHnP9U1YNwOrMf3EH58N6o4B6UUbdu2pU+fPnTv3p2YmCBoCQmfKdsJ9kUWLVrEoDQ71zYsCYqQ+NXCrHA+2RlNenoHnn/+BWw2m9ElBZwERRXmdDrZsGEDy5YtY9ny5RQVFqKs4TjiG+Cu0RhPTG1QVXsgTpXkYz2xh/DcfVCSj9lspkOHDvTo0YPOnTsTF+fbGVoisFwuF889N5Zly5YzrFExV6UF5+ro7w+FM3F7NBdeeCEvvvQSkZGRRpcUUBIUVYzD4eDHH39k2bJlrFixkpISO8oShjO2Pq7Ehnhi6/ls/UNQ0RqT/TjWE3sJy8uA0kJMJhNt27WjR/fudOnSRW5vWcU4nU6effZZVq1axY1Ni+lfPzhD4lerD4fx7rYY2rRuzcuvvBpSYSFBUQXk5+ezevVqVqxYyY8//ojT6UBZbTjj6uNKSMMTW7d6hkNFToaGJXc/4XkZUJKPUooWLVvSrWtXunTpIgv6gpzL5eIfzzzz27YcfVIcRpd0Vn48GsY7W2Jo2bIVr/773yETFhIUQSo7O5uVK1eyfPlyNm/ejNfrhfAonHGpuONT8cQkg8zvLguNkjwseRlY8w5gKs4BIKV+/d9Co0WLFjIXPoi43W7Gjh3LsmXLqlRI/Grt0TDe3hJD27ZteenlV0JiOrcERZDQWrN7925WrFjBsuXL2bd3b9nzkTVwxtXHndAAb2QiQTXKF4SUowhL3gGseQcwFx4G7SU+oQZdu3SmS5cutG/fPmRnrgQDrTUvv/wy8+bN48YmxfRPDe7upoqsOhzGe1tj6HRJJ55//oVqP3VWgsJAHo+HzZs3s3z5cr5ftoycY8dAKTzRtXHFl7UctC3W6DKrLrcDS34WltwMwgoOoj0uwm02LunUiW7dunHppZeGTNdBsJgwYQKTJk3i6jQ71/hpg79AWXwwnI92RDNw4EAeeeQRVDX+EFelNwWsitxuNxs2bDgZDsspyM9DmSy4YpNxpXXBE18fbY0wuszqwRKOO7Ex7sTGlHrdmAuyceYdYNnqtXz//fdYLFYuvvhiunfvRufOnWXarZ/Nnz//t72bhvhxg79A6VXPwQmHiVnffktKSgo33HCD0SUZQoLCRzweD5s2bWLhwoUsXfo9xcVFKLMVZ1wK7sbtccelBOciuOrEZMETXx9PfH0c2ou56CiW3AxWb9jE6tWrMJnNpHfoQJ8+fejSpYu0NHxs9+7d/Off/6Zlgptbm/t/g79AubZhCYftZt4fP57mzZtz0UUXGV1SwEnX03nQWrNr1y4WLlzIgoWLyD1xvCwc4lNx1Wh4cqaSZLHhtMZUnHNyBtV+KC3EGhZG1y5d6NOnDxdffDFWq4T4+XA4HNx+263YT2QzNv0EcWHV6/dKqRueXV8DuyWOjz7+hPj4KrS49SzJGIWPlZaWsnDhQr786iv27N4NJhPu2BRciY1wx6WCWcIhaGld1tI4vofwvP1oVylx8fEMuuoqrrrqKmrVCvzmidXBe++9x5QpUxjTLp9WNdxGl+MXmUVmnlkbT68+l/Pkk08aXY7PSVD4SHZ2NjNnzuTbOXMosdvRkTVw1GyOq0YjsFT/6XPVjteLuSCLsGM7sORlopTisss6M3TotbRv397o6qqMjIwMbrvtNrrWtnNHy/O/tW4wm7E3gln7I3n99ddp166d0eX4lAxmn6fjx48zadIkZn3zzcmtu9NwpbbAE11bprJWZSYTnvhUSuJTUY5CrEd3sOrHdaxcuYL27S/i7rtH0aJFC6OrDHqTJk3CatJc19hudCl+N6hBCcuyI/n4449o1+51o8sJGAmKSrjdbj799FM++2wKTpcTZ1JznHXbocNkELS60eExOOun46zXDuuxHfy0ZRP33HMP3bp144EHHpCtQypw9OhRFi9aRL/6dmKq2bhEecLMMKB+MVM2/sSOHTto3ry50SUFhKFLWZVSE5VSR5VSv1TwulJKvamU2q2U2qSUCth0g4KCAh57/HE++ugjiqPqUtTmGhxpl0lIVHcmC67arSloMxRH3fYsX7mKu0aNYvv27UZXFpSWL1+OV2t61q2ai+r+jK7JDkwKli1bZnQpAWP0ngcfAf0reX0A0PTkn1HAfwNQE4WFhdx99z1s2LiR0rQulDbpibbJDqYhxWzFWa89RS0GcqLYyf33/4WNGzcaXVXQWb16NXWjNHUivUaXEjDRVk2LeBerV64wupSAMTQotNbLgBOVHDIY+ESXWQPEK6WS/V3X1KlTyc4+hL1pP1w1m/n7ckHLVHSUsEM/Yyo6anQphvFGJlLU4krclgjeeHNc2X5c4jcHMvaTFu0M+HU/3RnJvzbE/vbn052BbemnxbjJPHgwZN4PRrcozqQekHnK46yTz/mNx+NhxoyZuBIa4on1eyYFLVPRURIPLOXGSxuReGBpSIeFtkZQktyW/fv2SqviFB6Ph5yc4yTZPAG/9oEiC9vzrL/9OVAU2OHWJJsHl8tNbm5uQK9rlGAfzC5vStEfRsyUUqMo65oiNTX1vC5oMpmwRdgoCvGdSC0F2QwcMIC/3D8agM9W78UZHcJrDFTZFu/R0dEGFxI8TCYTyqT++AMZAry67FeT2RwaW/8He1BkAafedCAFOHT6QVrr8cB4KFtHcT4XVErRvl07vl+xCmdxDt6o0LyPszs2mW/nzgXg27lzcaf2MLYgI3mchB/5hYiISBo3bmx0NUFDKUV0ZCSFruo/LfZ0Ra6yoIiKijK4ksAI9o/Ns4ARJ2c/XQLka62z/X3R++67j6Qa8UTv+g5T0TF/Xy4oeaNrcTy1B5+t3svx1B54Q7Q1oVylRO1agKUkl6effqrabzV9rho3bcrewtDb0n1PgYUGqfVDZusXo6fHTgFWA82VUllKqTuUUvcope45ecgcYC+wG3gfuC8QddWqVYs3Xn+dGnExRG2fTXjGGnAHfsDOaN7oWjjrtg3NkNAa67EdxGz5Aos9h6efforLLrvM6KqCTrt27cksNJHnCJ2Fpw4P7CoIp1370Nkc0NCPR1rrSvfs1WX7i4wOUDm/U7duXT76cCITJ07kq6++IjxvPyV1LsSV1FR2ga3OtMacn4Utu2y2V5sLL+ShBx+kYcOGRlcWlHr16sXEiRNZesjG1dVgW/GzsepwOKVuTe/evY0uJWCkHV2JmJgYHnjgAfr378+b48ax5Zc1RBzaSGlSc1y1W8niu+rE68Z6fA+2I1ugJI/ExCRG/eUJ+vbtW61vVnO+UlJS6NjxYhb9vJZ+9UuIqOa/UdxemJ8VSeNGDbnggguMLidgqvk/q280b96ct996iy1btjBt2jSWL19O+NFfcMXVx5XUFE9sitzbuirSGpP9BNbjuwg/sRftKqVxkyYMv340PXv2lPGIszRy5K2MHr2WbzIiq/1+T4sO2jhUbOK5224PqQ8Q8pNwDlq3bs3YsWM5ePAgX331FfPmf0fhroWosAgcCY1wJTXBG1FDNgoMcsplx3J8L+HHd6PsJzBbLHS+7DKGDBlCu3btQuoXgC+0bt2afv36MXfBfC6p5SA1JvDrKgIhp8TEF/ujSE/vQJcuXYwuJ6Bkm/Hz4Ha7+eGHH5g3bx6rVq3C4/FARByO+DTcNRrijUiQ0AgSymXHkpuB9cR+zIVlE+eaN2/BgAH96dWrF7Gxct/y85GXl8ftt92KzZnLP9NPEO7n5QX/2hDL9rz/jRW2iHfx94sK/HY9jxf+tTGeg84oPpgwkbp16/rtWkaRbcb9xGKx0LlzZzp37kx+fj5Lly5lydKl/PzTT+jsn/8XGglpeCOlpRFoylmMJe/A78IhpX4qva8ZSa9evWjQoIHBFVYf8fHxPPnU0zzyyMNM3B7NPa2KqtXbfdqeSHblm3n66UerZUiciQSFj8TFxTF48GAGDx5Mbm4uy5cvZ/GSJf8LDVsMzrj6uOMb4ImpDUrGNPzBVJKHJS8Da96B39bA/BoOPXr0kNlLftShQwduv/0OJkyYQHKkp9rMglpyMJx5mREMGTIkpGY6nUqCwg8SEhIYNGgQgwYNIi8vj1WrVrF8+QrWrl2L+8hWlNV2MjRSccfWk1unng+tMRUfw5J7gPD8A1CSB0Cz5s3p3u1qOnfuTFpamrE1hpCbb76ZzMxMvvjuO2qEe+lW12F0Seflpxwrn+yMplPHixk92pCZ+kFBfkP5WXx8PFdccQVXXHEFdrudtWvXsmLFClauWoU9ZxfKbMEZUxd3fCqe+Ppoa4TRJQc/rxtzQTaWvAOE52einXZMZjNt27alW9eudO7cWe59bRClFI888ggnjucwYcMGbBZNx1pVc7HqtlwL47bE0rhJE575x7MhPQsudP/PDRAZGUn37t3p3r07brebn3/+mZUrV7Js+XJy9q8ApfBE18IV3wB3QgN0eIzRJQcPjxNLXiaW3AzCCg6iPS7CbTYuubQTXbt2pVOnTsTEyN9XMAgLC+O551/gkYcf5r9bt2I1FdA+yWV0WedkZ56F1zbHU7duPV559d8hs6dTRWTWUxDQWrN7925WrFjB98uWs3/f3rLnoxJxngwNry0+5AbDlasES94BLLkZWAqzweshLj6ebl270qVLF9q3b09YWOjtM1RVFBYW8sjDD7F79y7+2sa3YeHPWU878yz8e1M8ibWSeePNN0lKCo2NQSub9SRBEYQOHjzI8uXL+X7ZMrZt3Vr2ZGTCKdNu440t0I+UqxRL7n6suSdnKmlNrdp16NG9G127dqVVq1Yhs7VzdVBYWMgjjzzM7l07Gd26kPSavumG8ldQbM+18H+b40mqnczrb4ROSIAERZWWk5PDihUrWLx4CZs3b0JrjY6sgTMhDVeNRmhbNZj/73aeDId9WAoOgdYk161H71496d69O02aNJFFcFVYYWEhjz/+GNu3beOeVoVcUvv8w8IfQbH5uJU3fokjuW49/vPa6yEVEiBBUW3k5OSwbNkyFi1azJYtvwDgjamNM7EJroSGYKlC3TDai7ngENacXYTlZaK9bmrVrkOf3r3o2bOnhEM1Y7fbGTPmcTZv3swdzYvOezaUr4NiY46Vcb/E0iCtIf/+z/+RkJBwXvVVRRIU1dDRo0dZsGABc+bO5WBWFspkwRmfiqtmczwxdYJ2PEOVFmA9tgPbiT1op52oqGguv7wPffv2pWXLlhIO1VhpaSlPPfUk69atZ0SzIvqk/Pmw8GVQ/HAkjHe3xtCkWTNeffXfIbtKX4KiGtNas23bNubPn8+ChQuxFxejIxNw1GyBK7FJcGyJfnLr7rCj27DkZ2EymejUqRP9+/fn0ksvlQHpEOJ0Onn22WdZtWoVw5sUc0Vq6Z86j6+CYmV2GOO3x9CmdWteevmVkJ7dJEERIkpLS1m8eDFffPElu3fvQlnCcCQ2xVnnAmO2RPd6sObswnbkFygtIC4+nsGDBnHllVfKOocQ5na7ef7551m6dClDG9kZlHbuK7h9ERRLD4Xz4fZo2l/Unhde+BcREaG9hilo93pSSvUH3gDMwAda65dOez0V+BiIP3nMGK31nIAXWkXYbDauuOIKBgwYwNatW/niiy9YsmQJYce240xqVhYY4dH+L8TjxpqzoywgHMU0b9GC64Y9QLdu3ULm1pGiYhaLhaeeegqr1cqMBQvwagK+3ceSg+F8uCOajhdfzHPPP094eHhAr1/VGBYUSikz8DZwOZAFrFVKzdJabz3lsKeA6Vrr/yqlWlF2a9S0gBdbxSilaN26Na1bt+b222/ns88+Y968eYTl7MBZqxWOuu3A7IfuHq2xHN9N5MH1aKedCy9sy4gRt9ChQwcZexC/Y7FYGDNmDEopvvjuO0yKP9Wy+DOWHioLiU6dOvLcc89L1+dZMLJF0RHYrbXeC6CUmgoMBk4NCg38OrIUBxwKaIXVQL169Xj00UcZMWIEH374IfPmzyf8xF7sdS/CndTUZ4PepqJjRGT+gKnoKM2at+C+++6lbdu2Pjm3qJ7MZjOPP/44WmtmLFiA1aQZ8CfHLM7WysNhfLi9rCUxduxzEhJnycigqAdknvI4C+h02jHPAt8ppf4CRAF9AlNa9VO7dm3GjBnD1VdfzRtvvsm2rSvwnNhLScNu5zd+4fUSdmgD4dmbiE9I4N4nnuDyyy/HJHf8E2fBbDYzZswYnE4nU77/nkiLprufNhLccMzK+9tiaNeurXQ3nSMjf5rL+yh7+sj6DcBHWusU4ApgklJ/3J9bKTVKKbVOKbXu2LFjfii1+mjRogXvvP02Dz30ELbSHGK2foU578CfOpcqLSBq+2zCszcxYMAAJn/6Kf369ZOQEOfEbDbz1FNPcfHF6UzcEc2GY74fx9qVb+HtLbE0bdaMF/71ooTEOTLyJzoLqH/K4xT+2LV0BzAdQGu9GrABf1guqbUer7VO11qn16xZ00/lVh9KKQYNGsSEDz6gcYP6RO5aiPXI1jN/4ylMRceI2fEtMZTyz3/+k8cffzykpxaK82O1Whk79jmaNW3Kf7fGsq/Ad9u0HLGbeG1zHLXqJPPyy68QGWnADMAqzsigWAs0VUo1VEqFAcOBWacdcwDoDaCUaklZUEiTwUdSU1N5++236Ny5M7YDawjLWn9W32cuOET0znnUTIjj3Xf/S/fu3f1cqQgFERER/OvFl4hPrMlrv8ST5zj/8bMSt+L/NsdjCo/m5VdeJT6++u6T5k+GBYXW2g3cD8wHtlE2u2mLUmqsUmrQycMeBu5SSv0MTAFu1dVt4YfBwsPDGTt2LAMHDiQ8++cztixM9uNE7VlMav16/Pedt6lfv36lxwtxLhITE3nxpZcp0WGM2xKL2/vnz+XVMH5rNEdKzIx97nlSUlJ8V2iIMbQzWWs9R2vdTGvdWGv9wsnnntFazzr59VatdWetdVutdTut9XdG1ltdmc1mHnroIS677DJsB9Zgzj9Y/oHuUqJ2LyQhLoZXX3mFxMTEwBYqQkKjRo147LHH2ZVn4fO9f76baH6mjfU5Ydx77720a9fOhxWGHhl1FEBZWDzzzDPUr59KZMZKcP9xh09bxhpMrlJeevFFWVkt/Kp3794MGjSIeQci2Hri3CdnHigy8/neKDp3voyhQ4f6ocLQIkEhfmOz2fj7359AOYsJP7Txd6+ZCw5hPbGXESNuoVmzZgZVKELJvffeS716dXl/Rxyl7rP/Po8Xxm+LJTYunkcffUwWe/qABIX4nZYtW9K3b1/Cj+1AuexlT2qN7dBP1EhM5IYbbjC2QBEyIiIiGPPE3zleAl/uO/suqO+ybBwoNPHgQw/L4LWPSFCIP7jlllvQ2oP16A4ATPYTmAoPc9ONN8r8cxFQbdq0YeDAgczPiuBg8ZmnzOY5FF/sj+KySy+lS5cuAagwNEhQiD9ISUmh7YUXEp67F7TGenw3ZouFvn37Gl2aCEF33XUXNpuNGXvO3Kr4an8kbm3ivtGjpcvJhyQoRLl69eoFJfmo0gLCCrK4OD2dmJgYo8sSISg+Pp7hN9zI+pww9layEO9YiYmlh2xcddUgmQrrYxIUolwdOnQAwHp8N5Tk//ZYCCMMHTqUqMgI5hyo+J4R8zJtmExmbrrppgBWFhokKES56tWrR3RMDNZjZeMUrVq1MrgiEcoiIyMZNPhq1h4LJ6fkj7+2PBqWZUfQq3dvZBsf35OgEOVSStG4UWNM7rJtnxs2bGhwRSLUDRpUtmHDisN/nFBR6DTh8MCQIUMCXVZIkKAQFapXry4AcXHxspGaMFxycjIXtb+IFUf+2P2U7zSR1iCVFi1aGFBZ9SdBISpUu3ZtANmqQwSNXr17c9SuKPX8fkZTiUfRq3cfmenkJxIUokK/LlayWHy35bMQ56Nz586YlKLQ+cdA6Nq1qwEVhQYJClGhuLg4o0sQ4nfi4+Np2qwpdvfvf3VZLRbS0tKMKSoESFCICkVEVDwVUQijXHRRB0pO63qKjomRbic/kqAQFZKgEMGoTZs2f3hO7q7oXxIUokJhYWFGlyDEH5Q3s0lm5fmXoUGhlOqvlNqhlNqtlBpTwTHXKaW2KqW2KKU+C3SNQojgUqNGDczm3//qstlsBlUTGs79jiA+opQyA28DlwNZwFql1Cyt9dZTjmkKPAF01lrnKqXkbjlChDilFDZbBMXFxb97TviPkS2KjsBurfVerbUTmAoMPu2Yu4C3tda5AFrrowGuUQgRhKRbNLCMDIp6QOYpj7NOPneqZkAzpdRKpdQapVT/gFUnhAhaEhSBZVjXE1BeW1Gf9tgCNAV6ACnAcqVUG6113u9OpNQoYBRAamqq7ysVQgQVq9VqdAkhxcgWRRZQ/5THKcChco75Wmvt0lrvA3ZQFhy/o7Uer7VO11qny86RQlR/EhSBZWRQrAWaKqUaKqXCgOHArNOO+QroCaCUSqKsK2pvQKsUQgQdi8XIzpDQY1hQaK3dwP3AfGAbMF1rvUUpNVYpNejkYfOB40qprcAS4FGt9XFjKhZCBAuzWfYfCyRDY1lrPQeYc9pzz5zytQYeOvlHCCEACYpAk5XZQogqx2SSX12BdFZ/20qp55RSllMexyqlPvRfWUIIUTFZYBdYZxvLFuAHpdSFSqm+lA1Er/dfWSIYyA+jCFby3gyssxqj0Fo/oZRaBPwA5ALdtNa7/VqZEEKIoHC2XU/dgDeAscBS4C2lVF0/1pXGCFoAACAASURBVCWEECJInO2sp38Dw37dsE8pdQ2wGJA7mQshRDV3tkFxqdba8+sDrfUXSqnv/VSTCBJls5OFEKHubAezk5RSE5RS8wCUUq2Aq/1XlhBCiGBxtkHxEWWrpJNPPt4J/M0fBQkhhAguZ92i0FpPB7zw2/Ybnsq/RQgh/EO6RQPrbIOiWCmVyMltwJVSlwD5fqtKCCEq4fV6jS4hpJztYPZDlO3s2lgptRKoCQz1W1VCCFEJCYrAqrRFoZS6WClVR2u9AegO/B1wAN9Rdq8IIYQIOI9Her4D6UxdT+8BzpNfXwY8CbxN2ers8X6sSwghKuR2u40uIaScqevJrLU+cfLr64HxWuuZwEyl1E/+LU0YTfbTEcHK5XIZXUJIOVOLwnzKrrG9KVuN/Su5xZQQwhASFIF1pqCYAnyvlPoaKAGWAyilmuCDWU9Kqf5KqR1Kqd1KqTGVHDdUKaWVUunne00hRNXndDrPfJDwmUpbBVrrF07uGpsMfKf/N3nZBPzlfC6slDJTNt5xOWUD42uVUrN+3U/qlONigL9StnOtEEJQWlpqdAkh5YzdR1rrNeU8t9MH1+4I7NZa7wVQSk0FBgNbTzvuOeAV4BEfXFMIUcVprSktLfnDc8J/jLyfYD0g85THWSef+41Sqj1QX2s9O5CFiTLywyeC0eHDh/F4fr+OoqSkpIKjhS8YGRTlTan57TeTUsoEvAY8fMYTKTVKKbVOKbXu2LFjPixRCBFstm49vdMBiouLDagkdBgZFFlA/VMepwCHTnkcA7QBliql9gOXALPKG9DWWo/XWqdrrdNr1qzpx5KFEEZbu3YtptM+ZhYWFhpTTIgwMijWAk2VUg2VUmHAcMq2CQFAa52vtU7SWqdprdOANcAgrfU6Y8oVQhjN4/Hww5rVRFl+3/VUVFSE3W43qKrqz7CgOLkD7f2UbV++DZiutd6ilBqrlBpkVF1CiOC1ceNGcvPyibH+Pii01qxYscKgqqo/QxfNaa3nAHNOe+6ZCo7tEYiahBDBa86cOURYIdr6+4kWVpNm7pw59O3b16DKqjcju56EEOKsHT16lO+/X0q3OiV/GKOID/Oy8aef2LVrlzHFVXMSFEKIKmHKlCl4vV76pvxxsV18uBebBSZNmmRAZdWfBIUQIuhlZmYya9bX9EgupWbEH+9FYVYwoL6dZcuW8csvvxhQYfUmQSGECGpaa95443Wsyss1jSqe2XRFagnxNnj99ddkG3Ifk6AQQgS1WbNmsW7deq5vVERcWMW7BYSbYUTTQnbv3iNdUD4mQSGECFq7du3inbffok0NF73qOc54fHpNJ53rOJg0aRLr168PQIWhQYJCVEj2ehJGOnHiBH9/YgxRJhejWhZytvfRGtGsiORIN8/+4xmysuSOzb4gQSEqJDeHEUYpLCzkscceJT/3OH+7II/48LP/0BJhgQcvyEc7i3ns0UeQ/d/OnwSFqJDDceamvhC+VlRUxCMPP8T+vXv4S5sC0mI853yOWhFeHr4gn9xjR/jbAw9w/PhxP1QaOiQoRIXk5jAi0I4dO8YDf/0Lu3fv4i9tCmib+OdbtY3j3Dx8YR45Rw9x/+j7yMzMPPM3iXJJUIgK/bp1s4xViEDYu3cv9917NwcP7OPBCwpon3T+XZ/N4t2MaZtPce4R7rv3HjZt2uSDSkOPBIWoUFFRkdEliBCxYMEC7rv3HtxFJ3iqfR4XnkdL4nSN49w83T6XKF3EQw8+yMyZM+XDzzkydFNAEdzy8/MBcLnPvY9YiLPhcDgYN24cs2fPpnm8m/taF5BwDgPXZ6t2pJd/XJTL+G3RjBs3jp9//onHHnuc6Ohon1+rOpIWhahQbm7u7/4rhC9t2bKFu+68g9mzZ3NVAztj2uX7JSR+FWXV/O2CQoY3KWbF8uXcdutIfvzxR79drzqRFoWo0NGjRwEoyM/D5XJhtVoNrkhUBw6HgwkTJvD559OpYYPH2hXQpkZgpmIrBVekltI83s372zSPPfYYAwYM4L777iMmJiYgNVRF0qIQFTp4KBsoG8w+cuSIwdWIqk5rzfLlyxk54hamT59Oz7ql/Ovi4wELiVM1jnUzNv0EVzWwM2/eXG65+SbmzZuH1/vHDQeFwUGhlOqvlNqhlNqtlBpTzusPKaW2KqU2KaUWKaUaGFFnKHK73RzOPoQ7ujaArHAV5yUzM5PHH3uMp59+GkvxYf7ePp9bmxcTYWCfRpgZhjUu4Z/peSSRy0svvcRf7r+fnTt3GldUkDIsKJRSZuBtYADQCrhBKdXqtMM2Aula6wuBGcArga0ydGVlZeHxeHAnpAGwb98+YwsSVdKJEyd4/fXXufXWkWz+aS03NS1mbHouLRKCZ3fXtBgPT12Ux10ti8jcs5W77x7FCy+8QHZ2ttGlBQ0jxyg6Aru11nsBlFJTgcHA1l8P0FovOeX4NcDNAa0whP36qcoTVxd1LEY+ZYlzYrfbmTZtGtOmTsHldNKjbilXN7RXuvurkUwKuiY7uCjJyeyMCL5bvIClSxZz9ZBruOmmm4iPjze6REMZGRT1gFOXSmYBnSo5/g5grl8rEr/ZvHkzyhKG1xaHMzKJnzdtQmuNOtud2URIstvtfPnll0yd8hmFRcV0rOVgaCM7dSKrRt9/lFVzfRM7l6eU8uW+CGbM+JzZ38zimmuHMmzYsJANDCODorzfOOV+3FBK3QykA90reH0UMAogNTXVV/WFtPUbNuCKqgXKhCemDicy9nHw4EFSUlKMLk0EodMDom2ikyEt7DSKrZprcGrYvNzRspj+qaV8vS+CzyZP5ouZM0I2MIwMiiyg/imPU4BDpx+klOoDPAl011qXu0ud1no8MB4gPT09ONu2VUhWVhaHDh7EnVrWwHPH1gNgzZo1DB061MjSRJDJy8tj5syZfPnFTIqK7VU+IE5XL8rDfW2KGFRUwtf7ywJjxozPueqqQVx33XXUqlXL6BIDwsigWAs0VUo1BA4Cw4EbTz1AKdUeeA/or7U+GvgSQ9OKFSsAcMeXtc60LRYdmcD3y5ZJUAgAjhw5wvTp05n9zSwcThcdajq4qmVJtQmI06VEexjdpoiri0uYnRHBFzNn8NWXX3J5377ccMMN1b4nw7Cg0Fq7lVL3A/MBMzBRa71FKTUWWKe1ngW8CkQDn5/sGz+gtR5kVM2hYv533+GNrokO/98CJGdCQzZv2sCRI0eoXbu2gdUJI+3atYtp06axZMli8Hq5rHYpVzQopV5U9QyI09WL8nB3qyKuaWhn7oEIFn43l3nz5tL5ss5cP3w4F1xwgdEl+oWhK7O11nOAOac998wpX/cJeFEhbvv27ezbuxdn6iW/e96V2JjwgxuYO3cut956qzHFCUNorVm7di3Tpk5l/YYN2CzQp24J/eqXkmSrGoPUvlYzwsuI5sUMbmhnYZaNRWtXsmLlSlq1asnw4TfQuXNnzGaz0WX6jGzhIX7nq6++QpmtuBKb/O55HR6DOy6Fr2d9w80334zFIm+d6s7pdLJo0SKmT5vKvv0ZJNjg+sbF9KjrIMoqQ4EAcWGaaxuVcGWDEpZnhzNv/1aeeeYZ6ibXYeiw6+jfvz+RkZFGl3ne5Kdd/Ob48eMsWLgQR40mYAn7w+vOWi3J3bWARYsW0a9fPwMqFIGQn5/P119/zZdfzCQ3L5/60V7uamnn0toOLLLpT7nCzdAnxUGveg7WHQtjbqaHN998kw8nTOCqwYO55pprSEpKMrrMP02CQvxm+vTpeDwenHXalPu6Jy4FHVmDTz+dTJ8+fapV01qUzXabMWMGc+d8i8Pp4oIaLu5qV0LrBBeyfObsmBR0rOWkYy0nu/ItzDvgYMqUz5g+bRq9+/Thuuuuo3HjxkaXec4kKARQ1pr44ssvcdVohLbFln+QUpQmX0jmnqUsWbKEPn1kCKk6+OWXX5g2bSorVqzArODS2qUMqF9KSnRoDFD7S9M4N00vKOKI3c53WTaWLpzP/PnzSe9wEdcPv4H09PQqs4BVgkIAMGnSJFwuF4667Ss9zp3QEB25iQkTJtKjRw8Zq6iivF4va9as4bPJk/llyxairHBVqp0+KaXE+/GeEKGodqSXW5rZGdKwhCUHw1mwZQOPPrqBJo0bccONN9G9e/eg/zkK7upEQGRlZTFr1jc4k5pX3Jr4lVKU1OtA9q4FfPPNNwwZMiQwRQqfcLvdLF68mCmfTWbf/gwSI+DmpsV0r1tKuPQk+lW0VXNVWin9U0tZdTicOZl7eO655/jg/fEMv+FG+vfvT3h4uNFllkuCQjB+/Hi0MuGs1+6sjvfEpeCJTWbihx/Rt29foqKi/FyhOF9ut5sFCxbwyccfkX34CCnRXu5uVUynWk4ZoA4wqwm613XQNdnBhpwwZmd4eO211/jk44+48aabufLKK4MuMOQtEuI2bdrEsmXLKK1zAdp6ltP4lKI05WIKC/KZPHmyfwsU58XtdjNnzhxuuelGXn75ZcLt2fztggJeuDiXznUkJIxkUpBe08k/OuQxpl0+Sd5jjBs3jhuHX8+MGTNwOMrdscgQ0qIIYVpr3n7nHQiPwlm7/JlOFfFGJeFKbMz06Z8zePBgWa0dZLTWrFq1ivfe/S8HMrNoGOvhwQuLaZcoM5iCjVLQqoabVjXy2ZZr4ct9bt566y2mT5vKXaPupnfv3phMxia6fJ4IYd9//z07tm+nJLk9mM/9M4OjXgfcXi8TJkzwQ3Xiz9q+fTsPPPBXnnzySVwnMnngggKe7ZBH+yQJiWDXMsHN3y/KZ0y7fCIdR3nhhRe4e9QoNm7caGhdEhQhyu1288GECejIBNxJTc78DeXQ4dE4a7VkwYIF7N+/37cFinNmt9sZN24c9957D/t3bGZksyJeuPgEHWpKQFQ1rWq4ebZDLve0KuTEwd08+OCDvPjii+Tn5xtSjwRFiFq8eDFZmZmU1m0P6s+/DZx1LgSzlY8//tiH1Ylz9cMPP3DryBF8MXMmveuV8GqnE/ROkZXUVZlJwWV1nLzc8TiD0uws/G4+I2+5mUWLFgW+loBfURhOa81nn01BR9bAHd/g/M5ltVGa1JylS5dy8OBBH1UozpbH4+H999/n8ccfx2I/xlMd8hnRzE6ERdZCVBdhZhjaqISxF+dRgzyee+45Xn31VZxOZ8BqkKAIQT/99BP79++jtHZrfNEn4ardGo3i66+/9kF14mwVFhbyxJgxTJ48mZ51S3nu4hM0jXMbXZbwk/rRHp7pkMdVDex8++23/O2Bv5KTkxOQa0tQhKA5c+agLOG4azT0yfl0WCSu+PrMnTcPl8vlk3OKytntdh55+CHWr1/Lbc2LuK1FMVb5aa72TAqGNS7h/jaF7Nm1gwf++hdyc3P9f12/X0EEFbfbzfIVK3HENwCT72ZHuxObUFhQwObNm312TlE+l8vFM888za5du/hrmwJ61gue+fYiMDrWcvJY2zyOHTnMmMcfw263+/V6hgaFUqq/UmqHUmq3UmpMOa+HK6WmnXz9B6VUWuCrrF62bNlCaYkdT3yKT8/rjq0LysSPP/7o0/OKP5o2bRrr1q3ntuZFtE+SFlyoahrnZnTrfHbu2sUHH3zg12sZFhRKKTPwNjAAaAXcoJRqddphdwC5WusmwGvAy4GtsvrZuXMnAJ5oHy+QM1vxRib+dn7hH4WFhUz5bDLtk5x0rystiVDXPslFj+RSZn39NYcPH/bbdYxsUXQEdmut92qtncBUYPBpxwwGfp13OQPorarKvrxB6sCBAyirDW2N8Pm5PbY49u3P8Pl5xf8sXryYYnsJQxr6t6tBVB2D00rwej3MmTPnzAf/SUYGRT0g85THWSefK/cYrbUbyAcSA1JdNVVcXIy22Pxybm0Jx24v9su5RZmDBw9iNUODEL9XRIlbYbPZGDp0KDabjRJ36H5+rGHzkhgBhw4d8ts1jAyK8v5lT5/8fTbHoJQapZRap5Rad+zYMZ8UV1253W6fTIktj1amsvMLvykoKCBCdmjD7lZceeWV3H///QwcOBB7CAcFgM3kIS8vz2/nNzIosoD6pzxOAU6PxN+OUUpZgDjgxOkn0lqP11qna63Ta9as6adyq4fY2FiU2z9928pdSmzMGe5nIc5Ly5YtKXBAtj20JyxGWjSzZ89m3LhxfPvtt0SG8ALDQpciq9hM69at/XYNI99ta4GmSqmGSqkwYDgw67RjZgEjT349FFistQ7dd4QP1KpVC+20g9v3qzrNjkJq15FdZP2pU6dOACzM8v0YU1XSPN5FbUsRy76dTm1LEc3jQ3f215KDNrT+33vDHwxrxGqt3Uqp+4H5gBmYqLXeopQaC6zTWs8CJgCTlFK7KWtJDDeq3uqiRYsWAJiLj+GJO31I6DxoLxb7cVq1vMx35xR/UKdOHa699lpmzpxJei0HrRJCs6vv5mYymA+QVWTmy/2RdO/enVatTp806juG9nZqrecAc0577plTvi4FhgW6ruqsTZs2mC0WLPlZPg0Kc+FhtMdFu3Znd5c88efdddddrFm9ire2wGNt80iLCe2B7VB1xG7iP5vjiYmJ5cEHH/TrtUK7ozMERUZGcnH6xYTlZYD2+uy8lhP7CAsLp2PHjj47pyifzWbj5VdeJTIuiZd+imd3voxuh5qDxWZe+CkBlyWaV179N/Hx8X69ngRFCOrfvx84ijDnZ/nmhB4n4Sf20rNnD2w2/0y9Fb+XkpLCm+PeIj6pDv/aGMd3mWX91KL6W3U4jLHrE1C2OF5/402aNWvm92tKUISgLl26UCMxkfAjW3xyPuuxnWiPiyFDhvjkfOLs1KlTh3f++y4Xd7yET3dF8drmGAqcoT1NtDorcSve2xrNu1tjaNKiFe++N55GjRoF5NoSFCHIYrEw/PrrMRdkYy48cn4n87qJOPIL7dq1+22gXAROfHw8/3rxRf7617+yJS+Cx3+oweKD4XildVFtaF3Winj8xxqsPmJj5MiRvPb6GwG9T70ERYi66qqriI2LJ/zQBs6nz8J6dDvaaWfkyJFnPlj4hVKKa665hvc/mEDTVm35aEc0z65PkLGLaiCryMxLP8Xx7tYYatVvwtvvvMNtt92GxRLYf1sJihAVERHBrSNHlLUqCv7knencTiIOb6JDejrt27f3bYHinKWlpfHa66/z9NNPU2iuwdj1cbyxOZqDxWajSxPn6FiJife2RvHk2niyXHE8+OCD/Pfd92jZsqUh9ajqtn4tPT1dr1u3zugyqgSXy8XNt9zC4QInRa0GnfO9s8My1xJ+5BfGv/deQAbUxNmz2+1Mnz6d6dOmUlJaSpfapVzdsISaEb6b6SZ8L8+h+CYjgsWHIjCZLQwZcg033nij32c1ASil1mut08t7TVoUIcxqtXLvPfeg7Cew5uw6p+9VjiJsR7fS9/LLJSSCUGRkJLfeeiufTZnKsGHXseZ4NI+tSeD9bVEhv/1HMDpeauKTnZE8vKYGiw5F0X/AQCZP/oz77rsvICFxJtKiCHFaa+4bPZrtu/dT0OZaMFvP6vtse5YSWZjJ5MmTqVWrlp+rFOfr6NGjTJs2jW9mzcLldtGppoOr0kqoH+K70BrtiN3E7IwIVhyxgTLRr19/brzxRlJSfHtjsbNRWYtCgkKwZcsWRo8ejaNue5z1zjzWYCrOIWrrLG6++WbuvPPOAFQofOXEiRN8/vnnfPXlF5SUOrgw0cUVqXZaxrv9tamwKMeeAgtzMmysOxaOxWph4MArGT58OHXq1DGsJgkKcUZPP/00K1b/QGGba894U6PIHfOIp4ipU6YQFRUVoAqFLxUUFPD1118zc8bn5OUX0DDWwxX17aTXdGKWnim/8GrYdNzKnAORbM+zEBUZweCrh3DttdeSmGj8bXYkKMQZZWRkcOutt+Ko3RpH/Yq34TAXZBO5Yy6jR49m2DDZhquqczgczJ8/n2lTp3DwUDY1IzSXp9jpnlwq973wEacHVh4OZ35WFIeKFTWTEhl23fVceeWVREZGGl3ebyQoxFl5/vnnWbRkKYUXDKuwVRG5Yy6JplKmTZtKeHh4gCsU/uLxeFi1ahXTp01l8y9biLRCj+QS+qaUUsMmM6X+jAKnYtFBG4sORVLggCaNG3Hd9cPp2bMnVuvZjQUGUmVBIZ8ZxG9uueUWFi5ciPXo9nLHKkzFOZgLsrnh3nslJKoZs9lM165d6dq1K9u2bWP69OnM+/575mdG0KmWg/6pJbJL7VnKLjYxL7NsgNrlgUsu6cT11w+nXbt2qCo6ECRBIX7ToEEDLrnkEn7Y8DPO5AvB9PuFWmGHt2CLiODKK680qEIRCC1btuQf//gH2dnZfPHFF8z+Zhar1obTMsHNgPp2Lkx0Yaqav+/8RmvYkWdhbmYEG3PCsFot9BvQn2HDhtGgQQOjyztvEhTid4YOHcqaNWuw5GbgTjxlwzF3Kda8/Vxx9WAZwA4RycnJjB49mpEjRzJ79mxmzvic/9t0nHrRXq6ob+fS2g4sIT7w7dWw/lgY3x6IZG+BmbjYGEaOvIarr76ahIQEo8vzGUOCQilVA5gGpAH7geu01rmnHdMO+C8QC3iAF7TW0wJbaei56KKLqFWrNtk5O38XFNbje8HrYeDAgQZWJ4wQHR3N8OHDGTp0KEuWLGHKZ5N5f9t+ZuyLpn9KMT3qht7At9MDKw6HMzcziiN2Rb26yTx05w3069evWnbLGvXPOwZYpLV+SSk15uTjx087xg6M0FrvUkrVBdYrpeZrrfMCXWwoMZlM9O17OZ9OnoxylaKtZfeXCMvdR1rDRjRu3NjgCoVRLBYLl19+OX369GHt2rVM+WwyU376mVkZUfRNsdM3pZQoa/WaHHO6UjcsOWRjbmYUeQ5o3rwZ9914E126dMFsrr57ahkVFIOBHie//hhYymlBobXeecrXh5RSR4GagASFn3Xv3p1PP/0Uc94B3DWboVwlmAqP0GvY7UaXJoKAUoqOHTvSsWNHtm3bxqefTuLLlauYlxlJr7olDEgtITasegWG3a1YmGVjXlYkRU5o374dt9wygvbt21fZAepzYVRQ1NZaZwNorbOVUpXuAaGU6giEAXsCUVyoa9KkCfEJNfAc3YbJUYCptACATp06GVyZCDYtW7bkhRf+xZ49e/j000+Zs3QJCw9F0LeenStSq34Lo9QNC7JszMmMothVNoPplltG0Lp1a6NLCyi/raNQSi0EyluP/iTwsdY6/pRjc7XW5Y78KKWSKWtxjNRar6ngmFHAKIDU1NQOGRkZ51m9GD9+PNOm/W9IKLVBAyZ88AEmU4iPXopKZWRk8PHHH7F48RIirdA/xU6/+iVVbgzD6YHFB23MzoyiwFEWELfffke13gAz6BbcKaV2AD1OtiaSgaVa6+blHBdLWUi8qLX+/GzOLQvuhDDenj17+HDiRFasXElcOFyTVkS3ZEfQbw+iNfxwNIzP90ZzrETR4aKLuP2OO0KiBRGMQfEqcPyUwewaWuvHTjsmDJgLfKO1fv1szy1BIUTw2Lp1K++8/Ra/bNlKSrSXGxoXcUGiy+iyyrUr38Jnu6PZk2+mcaOG3HvfaNLTy/29WS0FY1AkAtOBVOAAMExrfUIplQ7co7W+Uyl1M/AhsOWUb71Va/1TZeeWoBAiuGitWbZsGe+9+18OZR+mYy0HNzUtJiE8OMYvilyKabsj+T7bRmJCPHeOupu+fftW61lM5Qm6oPAnCQohgpPT6WTq1KlMmvQJFu3m2obF9EkpNWyVt9aw6kgYU/bEUOQyMWzYMEaOHBlUG/UFkgSFECJoZGVl8frrr7Fu3XpaJri5q0UhSQG+RWuBUzFxezQbcsJo1bIFDz/yaMivEZKgEEIEFa018+bNY9ybb6DdpYxoUkjnZGdArr0xx8qEHbGUeC3cddcohg4dKrP5kHtmCyGCjFKKAQMGMGHihzRp3pr3tsXw4fYoXH5sWHg1fL4ngtc2xVKzXkPee2881113nYTEWZC/ISGEYZKTk3n9jTe58cYbWXLIxosb48lz+H7Qotil+L9NsXyTEcnAgQP577vv0ahRozN/owAkKIQQBjObzYwaNYpnn32WrNIIxm6owWG773415ToUL2yMZ2uejYceeohHH32UsLAwn50/FFSx9ZJCiOqqR48eJCcn89ijj/D8Rri+URHh5vMbQ/V4Ycb+aAo9Nl5+5V906NDBR9WGFgkKIUTQaN68OePeeptHHn6I97f55pyxMdG89p9XadmypW9OGIIkKIQQQSU1NZVPJn1Kdna2T85Xs2ZNoqOjfXKuUCVBIYQIOjabjYYNGxpdhjhJBrOFEEJUSoJCCCFEpSQohBBCVEqCQgghRKUkKIQQQlRKgkIIIUSlJCiEEEJUqtptM66UOgZkGF1HNZIE5BhdhBAVkPen7zTQWtcs74VqFxTCt5RS6yrao14Io8n7MzCk60kIIUSlJCiEEEJUSoJCnMl4owsQohLy/gwAGaMQQghRKWlRCCGEqJQEhRBCiEpJUIgKKaX6K6V2KKV2K6XGGF2PEABKqYlKqaNKqV+MriVUSFCIcimlzMDbwACgFXCDUqqVsVUJAcBHQH+jiwglEhSiIh2B3VrrvVprJzAVGGxwTUKgtV4GnDC6jlAiQSEqUg/IPOVx1snnhBAhRoJCVESV85zMpRYiBElQiIpkAfVPeZwCHDKoFiGEgSQoREXWAk2VUg2VUmHAcGCWwTUJIQwgQSHKpbV2A/cD84FtwHSt9RZjqxIClFJTgNVAc6VUllLqDqNrqu5kCw8hhBCVkhaFEEKISklQCCGEqJQEhRBCiEpJUAghhKiUBIUQQohKSVAIUQml1JNKqS1KqU1KqZ+UUp18cM5BvtqNVylV5IvzCFEZmR4rRAWUUpcC/wf00Fo7lFJJQJjW+owr1JVSlpNrUfxdY5HWOtrf1xGhTVoUQlQsGcjRWjsAtNY5WutDyEdJTAAAAh1JREFUSqn9J0MDpVS6Umrpya+fVUqNV0p9B3yilPpBKdX615Op/2/vfl50iuI4jr/fosTUlB1lIYkVU5MNC3+BLGQIRSkWko2sycJaidjJgpmxkgUWmpIUKWNiYYOklBQiC6avxb0TyXPnh0L5vDb3dO85557zLM7nOben5+qYOqjuVU+r/W1f89rri9SX6gJ1pXpdfaDeVte0dVaod9X76ok//HnEfypBEdHbTWC5+lQ9o26aQZtBYEtV7aT5a/YhAHUpsKyqHkxVrKr3wDgw1e9m4EZVfQHOA4eqahA4Apxp65wCzlbVeuD1b88wYgYSFBE9VNVHmoV/P/AGGFb3TtPsalV9bssjwLa2PASM/qL+MLC9Le9o79EHbABG1YfAOZrdDcBG4FJbvjirCUXM0fy/PYCIf1lVTQJjwJg6AewBvvL9S9bCn5p8+qHtK/WtupYmDA784hZXgZPqEppQugUsBt5V1UCvYc1xOhFzkh1FRA/qanXVD6cGgBfAc5pFHWDrNN1cBo4C/VU18fPFdtdyj+aR0rWqmqyqD8AzdVs7DtV1bZM7NDsPgF2zn1XE7CUoInrrAy6oT9RHNO8OPwYcB06pt4HJafq4QrOwj3TUGQZ2t8cpu4B96jjwmO+voT0MHFTvA/2zm07E3OTnsRER0Sk7ioiI6JSgiIiITgmKiIjolKCIiIhOCYqIiOiUoIiIiE4JioiI6PQNcE5CFy1PnUwAAAAASUVORK5CYII=\n",
      "text/plain": [
       "<Figure size 432x288 with 1 Axes>"
      ]
     },
     "metadata": {
      "needs_background": "light"
     },
     "output_type": "display_data"
    }
   ],
   "source": [
    "# 觀察重要特徵與目標的分布\n",
    "# 第一名              \n",
    "import seaborn as sns\n",
    "import matplotlib.pyplot as plt\n",
    "sns.violinplot(x=train_Y, y=df['Sex'], fit_reg=False, scale=\"width\")\n",
    "plt.show()"
   ]
  },
  {
   "cell_type": "code",
   "execution_count": 12,
   "metadata": {},
   "outputs": [
    {
     "data": {
      "image/png": "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\n",
      "text/plain": [
       "<Figure size 432x288 with 1 Axes>"
      ]
     },
     "metadata": {
      "needs_background": "light"
     },
     "output_type": "display_data"
    }
   ],
   "source": [
    "# 第二名       \n",
    "sns.violinplot(x=train_Y, y=df['Ticket'], fit_reg=False, scale=\"width\")\n",
    "plt.show()"
   ]
  },
  {
   "cell_type": "code",
   "execution_count": 10,
   "metadata": {},
   "outputs": [
    {
     "data": {
      "text/plain": [
       "0.8395078777226791"
      ]
     },
     "execution_count": 10,
     "metadata": {},
     "output_type": "execute_result"
    }
   ],
   "source": [
    "# 製作新特徵看效果\n",
    "\"\"\"\n",
    "Your Code Here\n",
    "\"\"\"\n",
    "df['Add_char'] = (df['Sex'] + df['Ticket']) / 2\n",
    "df['Multi_char'] = df['Sex'] * df['Ticket']\n",
    "df['ST_div1p'] = df['Sex'] / (df['Ticket'] + 1) * 2\n",
    "df['TS_div1p'] = df['Ticket'] / (df['Sex'] + 1) * 2\n",
    "train_X = MMEncoder.fit_transform(df)\n",
    "cross_val_score(estimator, train_X, train_Y, cv=5).mean()"
   ]
  },
  {
   "cell_type": "code",
   "execution_count": null,
   "metadata": {
   "metadata": {},
   "outputs": [],
   "source": []
  },
  {
   "cell_type": "code",
   "execution_count": null,
   "metadata": {},
   "outputs": [],
   "source": []
  }
 ],
 "metadata": {
  "kernelspec": {
   "display_name": "Python 3",
   "language": "python",
   "name": "python3"
  },
  "language_info": {
   "codemirror_mode": {
    "name": "ipython",
    "version": 3
   },
   "file_extension": ".py",
   "mimetype": "text/x-python",
   "name": "python",
   "nbconvert_exporter": "python",
   "pygments_lexer": "ipython3",
   "version": "3.7.6"
  }
 },
 "nbformat": 4,
 "nbformat_minor": 2
}
